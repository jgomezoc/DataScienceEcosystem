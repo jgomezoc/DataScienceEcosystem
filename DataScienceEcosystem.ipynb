{
 "cells": [
  {
   "cell_type": "markdown",
   "id": "1a07f7df",
   "metadata": {},
   "source": [
    "# Data Science Tools and Ecosystem"
   ]
  },
  {
   "cell_type": "markdown",
   "id": "08edd6c6",
   "metadata": {},
   "source": [
    "## In this notebook, Data Science Tools and Ecosystem are summarized."
   ]
  },
  {
   "cell_type": "markdown",
   "id": "99ede411",
   "metadata": {},
   "source": [
    " **Objectives:**\n",
    "* List popular languages for Data Science\n",
    "* Commonly used libraries in Data Science\n",
    "* Arithmetic expressions\n"
   ]
  },
  {
   "cell_type": "markdown",
   "id": "a831259d",
   "metadata": {},
   "source": [
    "## Some of the popular languages that Data Scientists use are:\n",
    "\n",
    "1. Python\n",
    "2. R\n",
    "3. Julia\n",
    "4. Octave\n",
    "5. MATLAB"
   ]
  },
  {
   "cell_type": "markdown",
   "id": "37f09c3d",
   "metadata": {},
   "source": [
    "# Some of the commonly used libraries used by Data Scientists include:\n",
    "\n",
    "1. Pandas\n",
    "2. Scikit-learn\n",
    "3. Keras"
   ]
  },
  {
   "cell_type": "markdown",
   "id": "2e003424",
   "metadata": {},
   "source": [
    "|Data Science Tools|\n",
    "| ---------------- |\n",
    "| GitHub |\n",
    "| Hadoop |\n",
    "| Apache Airflow |"
   ]
  },
  {
   "cell_type": "markdown",
   "id": "421f1505",
   "metadata": {},
   "source": [
    "\n",
    "### Below are a few examples of evaluating arithmetic expressions in Python\n",
    "\n",
    "### 4 + 4 = 8\n",
    "### 1 + 2 +...+ n = n(n + 1)/2  "
   ]
  },
  {
   "cell_type": "code",
   "execution_count": 1,
   "id": "c5731b37",
   "metadata": {},
   "outputs": [
    {
     "data": {
      "text/plain": [
       "17"
      ]
     },
     "execution_count": 1,
     "metadata": {},
     "output_type": "execute_result"
    }
   ],
   "source": [
    "#This a simple arithmetic expression to mutiply then add integers\n",
    "(3*4)+5"
   ]
  },
  {
   "cell_type": "code",
   "execution_count": 7,
   "id": "2ae45cf7",
   "metadata": {},
   "outputs": [
    {
     "name": "stdout",
     "output_type": "stream",
     "text": [
      "200 minutes = 3.33 hours\n"
     ]
    }
   ],
   "source": [
    "# This will convert 200 minutes to hours by diving by 60\n",
    "minutes = 200\n",
    "m2hours = round(minutes/60, 2)\n",
    "print( \"{} minutes = {} hours\".format(minutes, m2hours) )"
   ]
  },
  {
   "cell_type": "markdown",
   "id": "ee8ab95e",
   "metadata": {},
   "source": [
    "## Author\n",
    "Jazael"
   ]
  },
  {
   "cell_type": "code",
   "execution_count": null,
   "id": "f3f22d23",
   "metadata": {},
   "outputs": [],
   "source": []
  }
 ],
 "metadata": {
  "kernelspec": {
   "display_name": "Python 3 (ipykernel)",
   "language": "python",
   "name": "python3"
  },
  "language_info": {
   "codemirror_mode": {
    "name": "ipython",
    "version": 3
   },
   "file_extension": ".py",
   "mimetype": "text/x-python",
   "name": "python",
   "nbconvert_exporter": "python",
   "pygments_lexer": "ipython3",
   "version": "3.8.5"
  }
 },
 "nbformat": 4,
 "nbformat_minor": 5
}
